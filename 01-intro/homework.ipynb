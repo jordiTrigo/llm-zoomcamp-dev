{
 "cells": [
  {
   "cell_type": "code",
   "execution_count": 119,
   "id": "8bbe2e19-08de-403b-81fd-c02c2d13cb25",
   "metadata": {},
   "outputs": [],
   "source": [
    "import requests\n",
    "import os\n",
    "import json\n",
    "\n",
    "from elasticsearch import Elasticsearch\n",
    "from tqdm.auto import tqdm\n",
    "\n",
    "from groq import Groq"
   ]
  },
  {
   "cell_type": "code",
   "execution_count": 120,
   "id": "8e3ff611-ebfb-481f-a17e-82c3061f87b1",
   "metadata": {},
   "outputs": [],
   "source": [
    "def get_documents():\n",
    "    docs_url = 'https://github.com/DataTalksClub/llm-zoomcamp/blob/main/01-intro/documents.json?raw=1'\n",
    "    docs_response = requests.get(docs_url)\n",
    "    documents_raw = docs_response.json()\n",
    "    \n",
    "    documents = []\n",
    "    \n",
    "    for course in documents_raw:\n",
    "        course_name = course['course']\n",
    "    \n",
    "        for doc in course['documents']:\n",
    "            doc['course'] = course_name\n",
    "            documents.append(doc)\n",
    "\n",
    "    return documents\n",
    "\n",
    "# get_documents()"
   ]
  },
  {
   "cell_type": "code",
   "execution_count": 121,
   "id": "f268fee3-6faf-4e82-b019-79593bfaa5b7",
   "metadata": {},
   "outputs": [
    {
     "name": "stdout",
     "output_type": "stream",
     "text": [
      "{\"acknowledged\":true}"
     ]
    },
    {
     "name": "stderr",
     "output_type": "stream",
     "text": [
      "100%|██████████████████████████████████████████████████████████████████████████████████████████████████████████████████████████████████████████████████████████████████| 948/948 [00:24<00:00, 38.88it/s]\n"
     ]
    }
   ],
   "source": [
    "# Get ElasticSearch client\n",
    "\n",
    "# First we delete the existent index to create a new one\n",
    "if (es_client.indices.exists(index=\"course_questions\")):\n",
    "    !curl -X DELETE 'http://localhost:9200/course_questions'\n",
    "\n",
    "# Health check\n",
    "es_client = Elasticsearch(\"http://localhost:9200\")\n",
    "es_client.info()\n",
    "    \n",
    "# Create index. \n",
    "# We are interested in Mappings that define the structure of the documents within an index. Each field \n",
    "# in the documents can have specific data types and properties. We use the \"keyword\" type for a field \n",
    "# like \"course\" when we want to filter documents based on the course name or run aggregations to count\n",
    "# the number of documents per course.\n",
    "index_settings = {\n",
    "    \"settings\": {\n",
    "        \"number_of_shards\": 1,\n",
    "        \"number_of_replicas\": 0\n",
    "    },\n",
    "    \"mappings\": {\n",
    "        \"properties\": {\n",
    "            \"text\": {\"type\": \"text\"},\n",
    "            \"section\": {\"type\": \"text\"},\n",
    "            \"question\": {\"type\": \"text\"},\n",
    "            \"course\": {\"type\": \"keyword\"} \n",
    "        }\n",
    "    }\n",
    "}\n",
    "\n",
    "index_name = \"course_questions\"\n",
    "es_client.indices.create(index=index_name, body=index_settings)\n",
    "\n",
    "# I traverse the list of documents and add into the index\n",
    "for doc in tqdm(get_documents()):\n",
    "    es_client.index(index=index_name, document=doc)"
   ]
  },
  {
   "cell_type": "code",
   "execution_count": 123,
   "id": "84768d5c-8e30-40a0-b11f-b70327bc3eea",
   "metadata": {},
   "outputs": [],
   "source": [
    "def elastic_search(query: str) -> list:\n",
    "    search_query = {\n",
    "        \"size\": 5,\n",
    "        \"query\": {\n",
    "            \"bool\": {\n",
    "                \"must\": {\n",
    "                    \"multi_match\": {\n",
    "                        \"query\": query,\n",
    "                        \"fields\": [\"question^3\", \"text\", \"section\"],\n",
    "                        \"type\": \"best_fields\"\n",
    "                    }\n",
    "                },\n",
    "                \"filter\": {\n",
    "                    \"term\": {\n",
    "                        \"course\": \"data-engineering-zoomcamp\"\n",
    "                    }\n",
    "                }\n",
    "            }\n",
    "        }\n",
    "    }\n",
    "    response = es_client.search(index=index_name, body=search_query)\n",
    "    result_docs = []\n",
    "\n",
    "    for hit in response[\"hits\"][\"hits\"]:\n",
    "        result_docs.append(hit[\"_source\"])\n",
    "    #result_docs = [hit['_source'] for hit in response['hits']['hits']]\n",
    "    \n",
    "    return result_docs"
   ]
  },
  {
   "cell_type": "code",
   "execution_count": 124,
   "id": "6f01bf83-b990-4c7b-b677-7efa78945b36",
   "metadata": {},
   "outputs": [],
   "source": [
    "def build_prompt(query: str, search_results: list) -> str:\n",
    "    prompt_template = \"\"\"\n",
    "        You're a course teaching assistant. You will answer the QUESTION using information from CONTEXT only.\n",
    "        Use only the facts from the CONTEXT when answering the QUESTION.\n",
    "        If the CONTEXT doesn't contains the answer, output NONE.\n",
    "    \n",
    "        QUESTION: {question}\n",
    "    \n",
    "        CONTEXT:\n",
    "        {context}\n",
    "    \"\"\".strip()\n",
    "    \n",
    "    context = \"\"\n",
    "\n",
    "    for doc in search_results:\n",
    "        context += f'section: {doc[\"section\"]}\\nquestion: {doc[\"question\"]}\\nanswer:: {doc[\"text\"]}\\n\\n'\n",
    "        \n",
    "    prompt = prompt_template.format(question=query, context=context).strip()\n",
    "    return prompt"
   ]
  },
  {
   "cell_type": "code",
   "execution_count": 125,
   "id": "7ef27e6d-03cc-4427-8c4c-8e61b227bc45",
   "metadata": {},
   "outputs": [],
   "source": [
    "# Get the client of Groq\n",
    "client = Groq(\n",
    "    api_key=os.environ.get(\"GROQ_API_KEY\"),\n",
    ")"
   ]
  },
  {
   "cell_type": "code",
   "execution_count": 126,
   "id": "9e16a6e6-6106-4537-9228-c14aa3f675b2",
   "metadata": {},
   "outputs": [],
   "source": [
    "def llm(prompt: str, model: str = \"llama3-8b-8192\") -> str | None:\n",
    "    response = client.chat.completions.create(\n",
    "        messages=[\n",
    "            {\n",
    "                \"role\": \"user\",\n",
    "                \"content\": prompt,\n",
    "            }\n",
    "        ],\n",
    "        model=model,\n",
    "    )\n",
    "\n",
    "    return response.choices[0].message.content"
   ]
  },
  {
   "cell_type": "code",
   "execution_count": 127,
   "id": "e2446d0b-ecfc-4944-a5b6-82f27e7494e4",
   "metadata": {},
   "outputs": [],
   "source": [
    "def rag(query: str, model: str = \"llama3-8b-8192\") -> str | None:\n",
    "    search_results = elastic_search(query)\n",
    "    prompt = build_prompt(query, search_results)\n",
    "    return llm(prompt, model)"
   ]
  },
  {
   "cell_type": "code",
   "execution_count": 128,
   "id": "4b31596f-7f99-4e35-8760-033061e677e5",
   "metadata": {},
   "outputs": [
    {
     "data": {
      "text/plain": [
       "'To run Kafka, you can use the command:\\n\\njava -cp build/libs/<jar_name>-1.0-SNAPSHOT.jar:out src/main/java/org/example/JsonProducer.java\\n\\nThis command was extracted from the context in the section \"Module 6: streaming with kafka\" under the question \"Java Kafka: How to run producer/consumer/kstreams/etc in terminal\".'"
      ]
     },
     "execution_count": 128,
     "metadata": {},
     "output_type": "execute_result"
    }
   ],
   "source": [
    "rag(\"How do I run Kafka?\")"
   ]
  },
  {
   "cell_type": "code",
   "execution_count": null,
   "id": "168354cb-3a27-430b-bd6a-e37eebadc665",
   "metadata": {},
   "outputs": [],
   "source": [
    "# *************************** HOMEWORK **********************************************"
   ]
  },
  {
   "cell_type": "code",
   "execution_count": 150,
   "id": "0ba139a1-f3b7-4b8c-bebc-73231af5bfea",
   "metadata": {},
   "outputs": [],
   "source": [
    "def elastic_search_homework(query: str, size: int = 5, course: str = \"data-engineering-zoomcamp\") -> list:\n",
    "    search_query = {\n",
    "        \"size\": size,\n",
    "        \"query\": {\n",
    "            \"bool\": {\n",
    "                \"must\": {\n",
    "                    \"multi_match\": {\n",
    "                        \"query\": query,\n",
    "                        \"fields\": [\"question^4\", \"text\"],\n",
    "                        \"type\": \"best_fields\"\n",
    "                    }\n",
    "                },\n",
    "                \"filter\": {\n",
    "                    \"term\": {\n",
    "                        \"course\": course\n",
    "                    }\n",
    "                }\n",
    "            }\n",
    "        }\n",
    "    }\n",
    "    response = es_client.search(index=index_name, body=search_query)\n",
    "    result_docs = []\n",
    "\n",
    "    for hit in response[\"hits\"][\"hits\"]:\n",
    "        result_docs.append(hit[\"_source\"])\n",
    "    #result_docs = [hit['_source'] for hit in response['hits']['hits']]\n",
    "    \n",
    "    return result_docs, response"
   ]
  },
  {
   "cell_type": "code",
   "execution_count": 145,
   "id": "8cdddc69-274f-4364-8cc5-184d4def8441",
   "metadata": {},
   "outputs": [],
   "source": [
    "query_homework = \"How do I execute a command in a running docker container?\"\n",
    "search_results_homework, response = elastic_search_homework(query_homework)"
   ]
  },
  {
   "cell_type": "code",
   "execution_count": 146,
   "id": "6a8477a0-e498-4948-9739-e5922b4564fb",
   "metadata": {},
   "outputs": [
    {
     "data": {
      "text/plain": [
       "ObjectApiResponse({'took': 14, 'timed_out': False, '_shards': {'total': 1, 'successful': 1, 'skipped': 0, 'failed': 0}, 'hits': {'total': {'value': 390, 'relation': 'eq'}, 'max_score': 75.54128, 'hits': [{'_index': 'course_questions', '_id': 'T66HapABaFiur6FkRyK_', '_score': 75.54128, '_source': {'text': 'In case running pgcli  locally causes issues or you do not want to install it locally you can use it running in a Docker container instead.\\nBelow the usage with values used in the videos of the course for:\\nnetwork name (docker network)\\npostgres related variables for pgcli\\nHostname\\nUsername\\nPort\\nDatabase name\\n$ docker run -it --rm --network pg-network ai2ys/dockerized-pgcli:4.0.1\\n175dd47cda07:/# pgcli -h pg-database -U root -p 5432 -d ny_taxi\\nPassword for root:\\nServer: PostgreSQL 16.1 (Debian 16.1-1.pgdg120+1)\\nVersion: 4.0.1\\nHome: http://pgcli.com\\nroot@pg-database:ny_taxi> \\\\dt\\n+--------+------------------+-------+-------+\\n| Schema | Name             | Type  | Owner |\\n|--------+------------------+-------+-------|\\n| public | yellow_taxi_data | table | root  |\\n+--------+------------------+-------+-------+\\nSELECT 1\\nTime: 0.009s\\nroot@pg-database:ny_taxi>', 'section': 'Module 1: Docker and Terraform', 'question': 'PGCLI - running in a Docker container', 'course': 'data-engineering-zoomcamp'}}, {'_index': 'course_questions', '_id': 'bq6HapABaFiur6FkZCO6', '_score': 43.922554, '_source': {'text': 'You can check the version of your local spark using spark-submit --version. In the build.sh file of the Python folder, make sure that SPARK_VERSION matches your local version. Similarly, make sure the pyspark you pip installed also matches this version.', 'section': 'Module 6: streaming with kafka', 'question': 'How do I check compatibility of local and container Spark versions?', 'course': 'data-engineering-zoomcamp'}}, {'_index': 'course_questions', '_id': '6q6HapABaFiur6FkPSHK', '_score': 38.684105, '_source': {'text': \"There are 3 Zoom Camps in a year, as of 2024. However, they are for separate courses:\\nData-Engineering (Jan - Apr)\\nMLOps (May - Aug)\\nMachine Learning (Sep - Jan)\\nThere's only one Data-Engineering Zoomcamp “live” cohort per year, for the certification. Same as for the other Zoomcamps.\\nThey follow pretty much the same schedule for each cohort per zoomcamp. For Data-Engineering it is (generally) from Jan-Apr of the year. If you’re not interested in the Certificate, you can take any zoom camps at any time, at your own pace, out of sync with any “live” cohort.\", 'section': 'General course-related questions', 'question': 'Course - how many Zoomcamps in a year?', 'course': 'data-engineering-zoomcamp'}}, {'_index': 'course_questions', '_id': 'Hq6HapABaFiur6FkQiLf', '_score': 38.33403, '_source': {'text': \"It is recommended by the Docker do\\n[Windows 10 / 11 Home Edition] If you're running a Home Edition, you can still make it work with WSL2 (Windows Subsystem for Linux) by following the tutorial here\\nIf even after making sure your WSL2 (or Hyper-V) is set up accordingly, Docker remains stuck, you can try the option to Reset to Factory Defaults or do a fresh install.\", 'section': 'Module 1: Docker and Terraform', 'question': 'Should I run docker commands from the windows file system or a file system of a Linux distribution in WSL?', 'course': 'data-engineering-zoomcamp'}}, {'_index': 'course_questions', '_id': '8K6HapABaFiur6FkPiFn', '_score': 35.94081, '_source': {'text': \"No, you can only get a certificate if you finish the course with a “live” cohort. We don't award certificates for the self-paced mode. The reason is you need to peer-review capstone(s) after submitting a project. You can only peer-review projects at the time the course is running.\", 'section': 'General course-related questions', 'question': 'Certificate - Can I follow the course in a self-paced mode and get a certificate?', 'course': 'data-engineering-zoomcamp'}}]}})"
      ]
     },
     "execution_count": 146,
     "metadata": {},
     "output_type": "execute_result"
    }
   ],
   "source": [
    "response"
   ]
  },
  {
   "cell_type": "code",
   "execution_count": 151,
   "id": "481cb8c2-74ef-43f2-990f-daa313be990a",
   "metadata": {},
   "outputs": [],
   "source": [
    "query_homework = \"How do I execute a command in a running docker container?\"\n",
    "search_results_homework, response = elastic_search_homework(query_homework, 3, \"machine-learning-zoomcamp\")"
   ]
  },
  {
   "cell_type": "code",
   "execution_count": 152,
   "id": "71c01e83-76d9-45a2-84a2-6dc48c94469b",
   "metadata": {},
   "outputs": [
    {
     "data": {
      "text/plain": [
       "[{'text': 'Launch the container image in interactive mode and overriding the entrypoint, so that it starts a bash command.\\ndocker run -it --entrypoint bash <image>\\nIf the container is already running, execute a command in the specific container:\\ndocker ps (find the container-id)\\ndocker exec -it <container-id> bash\\n(Marcos MJD)',\n",
       "  'section': '5. Deploying Machine Learning Models',\n",
       "  'question': 'How do I debug a docker container?',\n",
       "  'course': 'machine-learning-zoomcamp'},\n",
       " {'text': \"You can copy files from your local machine into a Docker container using the docker cp command. Here's how to do it:\\nTo copy a file or directory from your local machine into a running Docker container, you can use the `docker cp command`. The basic syntax is as follows:\\ndocker cp /path/to/local/file_or_directory container_id:/path/in/container\\nHrithik Kumar Advani\",\n",
       "  'section': '5. Deploying Machine Learning Models',\n",
       "  'question': 'How do I copy files from my local machine to docker container?',\n",
       "  'course': 'machine-learning-zoomcamp'},\n",
       " {'text': 'You can copy files from your local machine into a Docker container using the docker cp command. Here\\'s how to do it:\\nIn the Dockerfile, you can provide the folder containing the files that you want to copy over. The basic syntax is as follows:\\nCOPY [\"src/predict.py\", \"models/xgb_model.bin\", \"./\"]\\t\\t\\t\\t\\t\\t\\t\\t\\t\\t\\tGopakumar Gopinathan',\n",
       "  'section': '5. Deploying Machine Learning Models',\n",
       "  'question': 'How do I copy files from a different folder into docker container’s working directory?',\n",
       "  'course': 'machine-learning-zoomcamp'}]"
      ]
     },
     "execution_count": 152,
     "metadata": {},
     "output_type": "execute_result"
    }
   ],
   "source": [
    "search_results_homework"
   ]
  },
  {
   "cell_type": "code",
   "execution_count": 154,
   "id": "36b92b8d-f76b-49af-bba8-8e4a701a5e92",
   "metadata": {},
   "outputs": [],
   "source": [
    "def build_prompt_homework(query: str, search_results: list) -> str:\n",
    "    prompt_template = \"\"\"\n",
    "        You're a course teaching assistant. Answer the QUESTION based on the CONTEXT from the FAQ database.\n",
    "        Use only the facts from the CONTEXT when answering the QUESTION.\n",
    "    \n",
    "        QUESTION: {question}\n",
    "    \n",
    "        CONTEXT:\n",
    "        {context}\n",
    "    \"\"\".strip()\n",
    "    \n",
    "    context = \"\"\n",
    "\n",
    "    for doc in search_results:\n",
    "        context += f'Q: {doc[\"question\"]}\\nA: {doc[\"text\"]}\\n\\n'\n",
    "        \n",
    "    prompt = prompt_template.format(question=query, context=context).strip()\n",
    "    return prompt"
   ]
  },
  {
   "cell_type": "code",
   "execution_count": 170,
   "id": "9e78c2ad-e511-4593-9aee-c7b63b35c531",
   "metadata": {},
   "outputs": [
    {
     "data": {
      "text/plain": [
       "1502"
      ]
     },
     "execution_count": 170,
     "metadata": {},
     "output_type": "execute_result"
    }
   ],
   "source": [
    "query_homework = \"How do I execute a command in a running docker container?\"\n",
    "prompt_homework = build_prompt_homework(query_homework, search_results_homework)\n",
    "len(prompt_homework)"
   ]
  },
  {
   "cell_type": "code",
   "execution_count": 171,
   "id": "a0267d40-c7f9-46bf-9f76-022927530165",
   "metadata": {},
   "outputs": [],
   "source": [
    "import tiktoken"
   ]
  },
  {
   "cell_type": "code",
   "execution_count": 172,
   "id": "7c404c10-8b08-42a0-a053-1ae5a282f06b",
   "metadata": {},
   "outputs": [
    {
     "data": {
      "text/plain": [
       "328"
      ]
     },
     "execution_count": 172,
     "metadata": {},
     "output_type": "execute_result"
    }
   ],
   "source": [
    "encoding = tiktoken.encoding_for_model(\"gpt-4o\")\n",
    "my_encoding = encoding.encode(prompt_homework)\n",
    "len(my_encoding)"
   ]
  },
  {
   "cell_type": "code",
   "execution_count": null,
   "id": "4f48c0d5-bcf1-45b2-99af-a633243e91cd",
   "metadata": {},
   "outputs": [],
   "source": []
  }
 ],
 "metadata": {
  "kernelspec": {
   "display_name": "Python 3 (ipykernel)",
   "language": "python",
   "name": "python3"
  },
  "language_info": {
   "codemirror_mode": {
    "name": "ipython",
    "version": 3
   },
   "file_extension": ".py",
   "mimetype": "text/x-python",
   "name": "python",
   "nbconvert_exporter": "python",
   "pygments_lexer": "ipython3",
   "version": "3.10.13"
  }
 },
 "nbformat": 4,
 "nbformat_minor": 5
}
